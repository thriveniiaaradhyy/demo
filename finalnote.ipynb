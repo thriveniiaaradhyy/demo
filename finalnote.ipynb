{
    "cells": [
        {
            "metadata": {
                "collapsed": true
            },
            "cell_type": "markdown",
            "source": "# My Jupyter Notebook on IBM Watson Studio"
        },
        {
            "metadata": {},
            "cell_type": "markdown",
            "source": " **Thrivenii Aaradhyy**<br>\n student"
        },
        {
            "metadata": {},
            "cell_type": "markdown",
            "source": "*I am interested in data science because, It's really cool to play with data to get desired output...<br>\nWe can also Visualize data in different forms.\""
        },
        {
            "metadata": {},
            "cell_type": "markdown",
            "source": "### Multiplication of 2 numbers"
        },
        {
            "metadata": {},
            "cell_type": "code",
            "source": "4*5",
            "execution_count": 1,
            "outputs": [
                {
                    "output_type": "stream",
                    "text": "Waiting for a Spark session to start...\nSpark Initialization Done! ApplicationId = app-20200801153746-0000\nKERNEL_ID = d8e999c6-45c6-4cd5-983d-f99ad67c4e27\n",
                    "name": "stdout"
                },
                {
                    "output_type": "execute_result",
                    "execution_count": 1,
                    "data": {
                        "text/plain": "20"
                    },
                    "metadata": {}
                }
            ]
        },
        {
            "metadata": {},
            "cell_type": "markdown",
            "source": "1.Table View:\n\n| Name | Rollno | \n| ---- | :------: |\n| *Ram* | **1** |\n| *Three* | **3** |\n\n\n2.Example of Blockquotes are implemented here.<br>\n> Hello, i am **Blockquote**.\n\n\n3.Insta Logo:<br> \n![alt text](https://img.icons8.com/fluent/48/000000/instagram-new.png \"Logo Title Text 1\")\n\n\n4.Unordered list:<br>\n+ one\n+ two\n+ three\n\n\n5.Syntax Highlighting:<br>\n```python\nk = \"Hello Co-learner, Have a great time ahead\"\nprint k\n```"
        },
        {
            "metadata": {},
            "cell_type": "code",
            "source": "",
            "execution_count": null,
            "outputs": []
        }
    ],
    "metadata": {
        "kernelspec": {
            "name": "python36",
            "display_name": "Python 3.6 with Spark",
            "language": "python3"
        },
        "language_info": {
            "mimetype": "text/x-python",
            "nbconvert_exporter": "python",
            "name": "python",
            "pygments_lexer": "ipython3",
            "version": "3.6.8",
            "file_extension": ".py",
            "codemirror_mode": {
                "version": 3,
                "name": "ipython"
            }
        }
    },
    "nbformat": 4,
    "nbformat_minor": 1
}